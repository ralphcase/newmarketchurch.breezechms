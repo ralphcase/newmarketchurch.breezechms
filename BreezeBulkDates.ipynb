{
 "cells": [
  {
   "cell_type": "code",
   "execution_count": null,
   "id": "5d852318-2211-41ea-a30e-ac9a50669203",
   "metadata": {},
   "outputs": [],
   "source": [
    "# Fix future dates in the Breeze People data.\n",
    "# Assume that future dates should be in the past, so subtract 100 years."
   ]
  },
  {
   "cell_type": "code",
   "execution_count": 11,
   "id": "30f26c4a-0d51-4da3-9331-d1b07eb4881f",
   "metadata": {},
   "outputs": [],
   "source": [
    "# This is the file that was downloaded from https://newmarketchurch.breezechms.com/bulk/update_people\n",
    "breeze_template_file = r\"C:\\Users\\ralph\\Downloads\\newmarketchurch-update-people-10-11-2023 (2).csv\"\n",
    "\n",
    "# This file is created by this script and is to be imported at the same web page.\n",
    "upload_file = r\"C:\\Users\\ralph\\Downloads\\corrected_dates.csv\""
   ]
  },
  {
   "cell_type": "code",
   "execution_count": 12,
   "id": "3c48cfdf-b6d0-4266-bc7d-31c0ae575265",
   "metadata": {},
   "outputs": [],
   "source": [
    "import numpy as np\n",
    "import pandas as pd\n",
    "from datetime import datetime\n",
    "df = pd.read_csv(breeze_template_file, keep_default_na=False)  # keep_default_na=False is needed to preserve cells with the value \"None\". "
   ]
  },
  {
   "cell_type": "code",
   "execution_count": 15,
   "id": "a363040b-1609-435f-b6a1-9850363437c8",
   "metadata": {},
   "outputs": [],
   "source": [
    "def adjust_date(date_str):\n",
    "    try:\n",
    "        date = pd.to_datetime(date_str)\n",
    "        # Subtract 100 years from future dates\n",
    "        if date > datetime.now():\n",
    "            dateval =  date - pd.DateOffset(years=100)\n",
    "        else:\n",
    "            dateval = date\n",
    "        return dateval.strftime('%#m/%#d/%Y')\n",
    "    except ValueError:\n",
    "        return date_str  # Preserve invalid dates as-is\n",
    "        "
   ]
  },
  {
   "cell_type": "code",
   "execution_count": 16,
   "id": "2b9a96cc-95b9-4695-bc9f-d4497b5cae71",
   "metadata": {},
   "outputs": [],
   "source": [
    "# Subtract 100 years from future dates\n",
    "# I have found future dates in the columns listed below.\n",
    "dates_to_adjust = [\n",
    "    'Birthdate (1515006251)',\n",
    "    'Baptism Date (1515006341)',\n",
    "    'Membership Date (1515006263)',\n",
    "    'Wedding Date (1515006282)',\n",
    "]\n",
    "\n",
    "for column in dates_to_adjust:\n",
    "    df[column] = df[column].apply(adjust_date)"
   ]
  },
  {
   "cell_type": "code",
   "execution_count": 10,
   "id": "ff301365-1f5c-42a6-9319-374c7f54bfc1",
   "metadata": {},
   "outputs": [],
   "source": [
    "# print(df[birthdate])\n",
    "\n",
    "df.to_csv(upload_file, index=False)"
   ]
  },
  {
   "cell_type": "code",
   "execution_count": 17,
   "id": "22c80930-b975-4314-aace-01c82921b741",
   "metadata": {},
   "outputs": [
    {
     "name": "stdout",
     "output_type": "stream",
     "text": [
      "\n",
      "for column:  COVID Vaccination Received (1515006393)\n",
      "future dates:  0 []\n",
      "Number empty:  1731\n",
      "\n",
      "for column:  Visit Date (1515006388)\n",
      "future dates:  0 []\n",
      "Number empty:  1704\n",
      "\n",
      "for column:  Baptism Date (1515006341)\n",
      "future dates:  0 []\n",
      "Number empty:  1775\n",
      "\n",
      "for column:  Membership Date (1515006263)\n",
      "future dates:  0 []\n",
      "Number empty:  1659\n",
      "\n",
      "for column:  Wedding Date (1515006282)\n",
      "future dates:  0 []\n",
      "Number empty:  1720\n",
      "\n",
      "for column:  Date of First Contact (1515006291)\n",
      "future dates:  0 []\n",
      "Number empty:  1540\n",
      "\n",
      "for column Birthdate (1515006251)\n",
      "date error:  10/31/0000\n",
      "date error:  5/20/0000\n",
      "date error:  1/23/0000\n",
      "date error:  1/16/0000\n",
      "date error:  10/18/0000\n",
      "date error:  12/19/0000\n",
      "date error:  1/25/0000\n",
      "date error:  2/1/0000\n",
      "date error:  10/22/0000\n",
      "date error:  5/28/0000\n",
      "date error:  10/25/0000\n",
      "date error:  12/14/0000\n",
      "date error:  1/6/0000\n",
      "date error:  3/27/0000\n",
      "date error:  12/29/0000\n",
      "date error:  8/30/0000\n",
      "date error:  7/17/0000\n",
      "date error:  3/4/0000\n",
      "date error:  7/17/0000\n",
      "date error:  5/20/0000\n",
      "date error:  9/5/0000\n",
      "date error:  1/23/0000\n",
      "date error:  2/15/0000\n",
      "date error:  10/22/0000\n",
      "date error:  4/9/0000\n",
      "date error:  4/18/0000\n"
     ]
    }
   ],
   "source": [
    "# This is not part of the script to fix dates. It is useful for investigating the scope of date problems.\n",
    "\n",
    "# Find the dates in the people data.\n",
    "\n",
    "for name, values in df.items():\n",
    "#    print(name, pd.to_datetime(df[name], format=\"%m/%d/%Y\", errors='ignore'))\n",
    "    try:\n",
    "        # print(name, pd.to_datetime(df[name], format=\"%m/%d/%Y\"))\n",
    "        dates = pd.to_datetime(df[name], format=\"%m/%d/%Y\")\n",
    "        print()\n",
    "        print('for column: ', name)\n",
    "        days = list(day.date() for day in dates if (not pd.isnull(day)) and day > datetime.now()) \n",
    "        print('future dates: ', len(days), days)\n",
    "        print('Number empty: ', sum(1 for day in dates if pd.isnull(day)))\n",
    "        # for day in dates:\n",
    "        #     print(type(day), day)\n",
    "    except ValueError:\n",
    "        # print('column is not a date: ', name)\n",
    "        pass\n",
    "        \n",
    "birthdate = 'Birthdate (1515006251)'\n",
    "print('\\nfor column ' + birthdate)\n",
    "for bd in df[birthdate]:\n",
    "    try:\n",
    "        pd.to_datetime(bd)\n",
    "        if pd.to_datetime(bd) > datetime.now():\n",
    "            print('future date: ', bd)\n",
    "    except ValueError:\n",
    "        print ('date error: ', bd)"
   ]
  }
 ],
 "metadata": {
  "kernelspec": {
   "display_name": "Python 3 (ipykernel)",
   "language": "python",
   "name": "python3"
  },
  "language_info": {
   "codemirror_mode": {
    "name": "ipython",
    "version": 3
   },
   "file_extension": ".py",
   "mimetype": "text/x-python",
   "name": "python",
   "nbconvert_exporter": "python",
   "pygments_lexer": "ipython3",
   "version": "3.11.4"
  }
 },
 "nbformat": 4,
 "nbformat_minor": 5
}
