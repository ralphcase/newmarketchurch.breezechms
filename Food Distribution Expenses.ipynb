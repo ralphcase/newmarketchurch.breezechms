{
 "cells": [
  {
   "cell_type": "code",
   "execution_count": 1,
   "id": "5afd9582-a621-4a45-9d8c-1a45dc8bb2bb",
   "metadata": {},
   "outputs": [
    {
     "name": "stdout",
     "output_type": "stream",
     "text": [
      "Download the spreadsheet from the following link. Copy the full path into the 'attendancereport' below.\n",
      "https://newmarketchurch.breezechms.com/events/reports/243292484#/start_date=01%2F01%2F2022&end_date=06%2F03%2F2024&event_ids=2949650&attendance_status=attended&attendance_operator=any&page=spreadsheet\n"
     ]
    }
   ],
   "source": [
    "# Create monthly report url\n",
    "\n",
    "# To run this directly from the command line, \n",
    "# jupyter nbconvert --execute \"USDA Monthly Report.ipynb\" --to asciidoc\n",
    "\n",
    "from datetime import datetime, timedelta, date\n",
    "import urllib.parse\n",
    "\n",
    "report_date = datetime.now()\n",
    "\n",
    "# end = datetime.strptime(report_date, '%m/%d/%Y')\n",
    "start = date(report_date.year - 2, 1, 1)\n",
    "\n",
    "donatedFoodValue = 127206.12\n",
    "\n",
    "import config\n",
    "base_url = config.church_domain_url + r\"/events/reports/243292484#/\"\n",
    "\n",
    "import urllib.parse\n",
    "params = {\n",
    "    'start_date': urllib.parse.quote(start.strftime('%m/%d/%Y'), safe='/'),\n",
    "    'end_date': urllib.parse.quote(report_date.strftime('%m/%d/%Y'), safe='/'),\n",
    "    'event_ids': '2949650',\n",
    "    'attendance_status': 'attended',\n",
    "    'attendance_operator': 'any',\n",
    "    'page': 'spreadsheet',\n",
    "}\n",
    "\n",
    "print(\"Download the spreadsheet from the following link. Copy the full path into the 'attendancereport' below.\")\n",
    "print(base_url + urllib.parse.urlencode(params))"
   ]
  },
  {
   "cell_type": "code",
   "execution_count": 2,
   "id": "a8ab7dad-2d64-4ffc-89a0-0368accc8ea9",
   "metadata": {},
   "outputs": [
    {
     "name": "stdout",
     "output_type": "stream",
     "text": [
      "461 people in input.\n"
     ]
    }
   ],
   "source": [
    "# This is the file that was downloaded from https://newmarketchurch.breezechms.com/events/reports/243292472#/&start_date=10%2F01%2F2023&end_date=10%2F31%2F2023&event_ids=2949650&attendance_status=attended&attendance_operator=any&page=spreadsheet\n",
    "\n",
    "attendancereport = r\"C:\\Users\\ralph\\Downloads\\FoodPantry-attendance-06-01-2024 (3).xlsx\"\n",
    "peopleexport = r\"C:\\Users\\ralph\\Downloads\\newmarketchurch-people-05-31-2024.xlsx\"\n",
    "\n",
    "import numpy as np\n",
    "import pandas as pd\n",
    "\n",
    "# Read in the downloaded Excel file \n",
    "attendance = pd.read_excel(attendancereport)\n",
    "\n",
    "# drop the Total row\n",
    "attendance = attendance[attendance['Breeze ID'].notna()]\n",
    "\n",
    "people = pd.read_excel(peopleexport)\n",
    "print('{count} people in input.'.format(count = len(attendance.index)))"
   ]
  },
  {
   "cell_type": "code",
   "execution_count": 3,
   "id": "38daa8f4-e6e2-4210-bd46-324e67f0bcd3",
   "metadata": {},
   "outputs": [],
   "source": [
    "# Keep only the columns we use.\n",
    "\n",
    "attendance = attendance.drop([\n",
    "    'First Name', \n",
    "    'Last Name', \n",
    "    'Person Totals'\n",
    "], axis = 1)\n",
    "\n",
    "dates = attendance.columns[attendance.columns != 'Breeze ID']\n",
    "\n",
    "family_size = {k: v for k, v in zip(people['Breeze ID'], people['How many people live in your household? (including yourself)'])}\n",
    "seniors = {k: v for k, v in zip(people['Breeze ID'], people['Total number of people aged 60 or older in Household?'])}\n"
   ]
  },
  {
   "cell_type": "code",
   "execution_count": 12,
   "id": "770d3479-bb3d-41f4-a474-a4303472bcb5",
   "metadata": {},
   "outputs": [],
   "source": [
    "import math\n",
    "\n",
    "attendance.fillna(0, inplace=True)\n",
    "\n",
    "numberOfSeniors = 25\n",
    "\n",
    "people_fed = {}\n",
    "seniors_fed = {}\n",
    "for date in dates:\n",
    "    datesum = 0\n",
    "    seniorcount = 0\n",
    "    for _, row in attendance.iterrows():\n",
    "        if row[date] == 'X':\n",
    "            datesum += family_size[row['Breeze ID']] if not math.isnan(family_size[row['Breeze ID']]) else 0\n",
    "            seniorcount += seniors[row['Breeze ID']] if not math.isnan(seniors[row['Breeze ID']]) else 0\n",
    "    people_fed[date] = datesum + numberOfSeniors if datesum > 0 else 0\n",
    "    seniors_fed[date] = seniorcount + numberOfSeniors if datesum > 0 else 0\n",
    "\n"
   ]
  },
  {
   "cell_type": "code",
   "execution_count": 13,
   "id": "198c5ad8-e32d-4ca6-8fd3-79ab8b21fcea",
   "metadata": {},
   "outputs": [],
   "source": [
    "totalFed = sum(people_fed.values())\n",
    "\n",
    "output = pd.DataFrame({'Date': dates, \n",
    "                       'People Fed': people_fed.values(), \n",
    "                       'Seniors Fed': seniors_fed.values(),\n",
    "                       'Value': [round(p * donatedFoodValue / totalFed, 2) for p in people_fed.values()] })"
   ]
  },
  {
   "cell_type": "code",
   "execution_count": 14,
   "id": "cb0464a1-e1e9-45d0-9235-e7900a6c0c47",
   "metadata": {},
   "outputs": [],
   "source": [
    "people_fed_file = r\"C:\\Users\\ralph\\Downloads\\People Fed.csv\"\n",
    "output.to_csv(people_fed_file, index=False)"
   ]
  }
 ],
 "metadata": {
  "kernelspec": {
   "display_name": "Python 3 (ipykernel)",
   "language": "python",
   "name": "python3"
  },
  "language_info": {
   "codemirror_mode": {
    "name": "ipython",
    "version": 3
   },
   "file_extension": ".py",
   "mimetype": "text/x-python",
   "name": "python",
   "nbconvert_exporter": "python",
   "pygments_lexer": "ipython3",
   "version": "3.11.4"
  }
 },
 "nbformat": 4,
 "nbformat_minor": 5
}
