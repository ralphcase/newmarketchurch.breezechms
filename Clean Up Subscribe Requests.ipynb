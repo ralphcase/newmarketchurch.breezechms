{
 "cells": [
  {
   "cell_type": "code",
   "execution_count": 1,
   "id": "50a2e90c-d035-47d1-b366-7a8a229c87dd",
   "metadata": {},
   "outputs": [],
   "source": [
    "# Remove old Communication Management forms"
   ]
  },
  {
   "cell_type": "code",
   "execution_count": 2,
   "id": "dfe91ee9-43a6-4fa5-b5c9-78ccdf05c769",
   "metadata": {},
   "outputs": [],
   "source": [
    "# Breeze forms used\n",
    "ncc_url = 'https://newmarketchurch.breezechms.com'\n",
    "breeze_forms = ncc_url + '/forms/entries/'\n",
    "subscribe_form_id = '460630'\n",
    "# subscribe_form_id = '830670'\n",
    "\n",
    "# Set up Breeze API wrapper\n",
    "from breeze_chms_api import breeze\n",
    "\n",
    "# Initialize API \n",
    "import config\n",
    "breeze_api = breeze.breeze_api(breeze_url=ncc_url, api_key=config.api_key)\n"
   ]
  },
  {
   "cell_type": "code",
   "execution_count": 3,
   "id": "01a42141-6723-492e-b7cb-398c3c31834c",
   "metadata": {},
   "outputs": [],
   "source": [
    "entries = breeze_api.list_form_entries(form_id = subscribe_form_id, details=True)"
   ]
  },
  {
   "cell_type": "code",
   "execution_count": 4,
   "id": "cc849fbd-63e9-4aa7-86c3-e0fe52722459",
   "metadata": {},
   "outputs": [
    {
     "name": "stdout",
     "output_type": "stream",
     "text": [
      "removing form entry 103831969\n",
      "removing form entry 103708210\n",
      "removing form entry 103676722\n",
      "removing form entry 103476505\n",
      "removing form entry 103357688\n",
      "removing form entry 102460152\n",
      "removing form entry 101673052\n",
      "removing form entry 100962180\n",
      "removing form entry 99706144\n",
      "removing form entry 98354132\n"
     ]
    }
   ],
   "source": [
    "from datetime import datetime\n",
    "\n",
    "most_recent_entry = {}\n",
    "for e in entries:\n",
    "    recent = datetime.strptime(e['created_on'], '%Y-%m-%d %H:%M:%S')\n",
    "    if e['person_id'] in most_recent_entry:\n",
    "        if recent > most_recent_entry[e['person_id']]['time']:\n",
    "            # Delete preious recent and save new recent\n",
    "            print('removing form entry ' + most_recent_entry[e['person_id']])\n",
    "            breeze_api.remove_form_entry(entry_id = most_recent_entry[e['person_id']]['id'])\n",
    "            most_recent_entry[e['person_id']] = {'time': recent, 'id': e['id']}\n",
    "        else:\n",
    "            # Delete entry e\n",
    "            print('removing form entry ' + e['id'])\n",
    "            breeze_api.remove_form_entry(entry_id = e['id'])\n",
    "    else:\n",
    "        most_recent_entry[e['person_id']] = {'time': recent, 'id': e['id']}"
   ]
  }
 ],
 "metadata": {
  "kernelspec": {
   "display_name": "Python 3 (ipykernel)",
   "language": "python",
   "name": "python3"
  },
  "language_info": {
   "codemirror_mode": {
    "name": "ipython",
    "version": 3
   },
   "file_extension": ".py",
   "mimetype": "text/x-python",
   "name": "python",
   "nbconvert_exporter": "python",
   "pygments_lexer": "ipython3",
   "version": "3.11.4"
  }
 },
 "nbformat": 4,
 "nbformat_minor": 5
}
