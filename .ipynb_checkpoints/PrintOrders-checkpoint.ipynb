{
 "cells": [
  {
   "cell_type": "code",
   "execution_count": 1,
   "id": "0dadfd0c-33dc-435b-8a0b-20f170e0eb43",
   "metadata": {},
   "outputs": [],
   "source": [
    "# Print out the orders\n"
   ]
  },
  {
   "cell_type": "code",
   "execution_count": 2,
   "id": "49f7afaa-79b5-4303-86d4-470fe990857c",
   "metadata": {},
   "outputs": [],
   "source": [
    "import os\n",
    "from pathlib import Path\n",
    "from datetime import datetime\n",
    "\n",
    "# This is the file that was downloaded from https://newmarketchurch.breezechms.com/forms/entries/557986\n",
    "weekly_orders = r\"C:\\Users\\ralph\\Downloads\\PANTRY-ORDER-FORM-101923 (5).xlsx\"\n",
    "title_date = '10/19/2023'\n",
    "\n",
    "last_run = datetime(2023, 10, 17, 15, 0)\n",
    "runmode = 'all'\n",
    "# runmode = 'update'\n",
    "\n",
    "# Get the exported filename for use in the report.\n",
    "filename = Path(weekly_orders)\n",
    "name = filename.name.replace(filename.suffix, '', -1)\n",
    "\n",
    "filename = 'NCC Food Pantry Orders' \n",
    "title = filename + ' ' + title_date\n",
    "\n",
    "# This file is created by this script and is to be imported at the same web page.\n",
    "upload_file = os.path.join(os.path.dirname(weekly_orders), filename +'.html')\n",
    "# upload_file"
   ]
  },
  {
   "cell_type": "code",
   "execution_count": 3,
   "id": "57aa7215-ef97-425c-aac8-91abe01dfb3e",
   "metadata": {},
   "outputs": [
    {
     "name": "stdout",
     "output_type": "stream",
     "text": [
      "69 orders in input.\n"
     ]
    }
   ],
   "source": [
    "import numpy as np\n",
    "import pandas as pd\n",
    "\n",
    "# Read in the downloaded Excel file \n",
    "allorders = pd.read_excel(weekly_orders)\n",
    "received = len(allorders.index)\n",
    "print('{count} orders in input.'.format(count = received))"
   ]
  },
  {
   "cell_type": "code",
   "execution_count": 4,
   "id": "08700942-c603-4db1-a0d9-f1bdff23b098",
   "metadata": {},
   "outputs": [
    {
     "name": "stdout",
     "output_type": "stream",
     "text": [
      "32 orders filtered by date and time.\n"
     ]
    }
   ],
   "source": [
    "from datetime import datetime, timedelta\n",
    "\n",
    "modes = {\n",
    "    'all': 'All orders received this week',\n",
    "    'update': 'All orders received since {date}'.format(date = last_run),\n",
    "    'special': 'Scpecial criteria were used.'\n",
    "    }\n",
    "\n",
    "# Only process recent orders.\n",
    "if runmode == 'all':\n",
    "    allorders = allorders[pd.to_datetime(allorders['Date']) > datetime.strptime(title_date, '%m/%d/%Y') - timedelta(days=5)]\n",
    "elif runmode == 'update':\n",
    "    allorders = allorders[pd.to_datetime(allorders['Date']) > last_run]\n",
    "else:\n",
    "    allorders = allorders[pd.to_datetime(allorders['Date']) > datetime.today() - timedelta(days=7)]  \n",
    "\n",
    "printed = len(allorders.index)\n",
    "print('{count} orders filtered by date and time.'.format(count = printed))"
   ]
  },
  {
   "cell_type": "code",
   "execution_count": 5,
   "id": "ce63b30a-9a97-4ec2-8826-c814aba17ad9",
   "metadata": {},
   "outputs": [],
   "source": [
    "# Coalesce columns to simplify the order form.\n",
    "\n",
    "# Combine first and last name.\n",
    "allorders.insert(1, 'Name', allorders['First Name'] + ' ' + allorders['Last Name'])\n",
    "\n",
    "# Format the Zip code correctly.\n",
    "allorders['Zip'] = allorders['Zip'].astype(str).str.pad(5,fillchar='0')\n",
    "\n",
    "# Combine address elements into a single address field.\n",
    "allorders.insert(5, 'Address', allorders['Street Address'] + '<br>' + allorders['City'] +' '+ allorders['State']+' '+ allorders['Zip'])\n",
    "\n",
    "# Drop the fields we combined.\n",
    "allorders = allorders.drop(columns=['Date', 'First Name', 'Last Name', 'Street Address', 'City', 'State', 'Zip'])\n",
    "\n",
    "# Replace \"NaN\" values with blanks.\n",
    "allorders = allorders.replace(np.nan, '')\n",
    "# allorders.columns"
   ]
  },
  {
   "cell_type": "code",
   "execution_count": 6,
   "id": "291fee9b-8b63-4ec4-9372-1785b59989b7",
   "metadata": {},
   "outputs": [],
   "source": [
    "def formatshoppers(date, data):\n",
    "    output = ''\n",
    "    \n",
    "    rowvars = {\n",
    "        'key' : None,\n",
    "        'val' : None\n",
    "    }\n",
    "    for _, row in data.iterrows():\n",
    "        rowtext = ''\n",
    "        # Format each field as a row in a table.\n",
    "        for i in range(len(data.columns)):\n",
    "            rowvars['key'] = data.columns[i]\n",
    "            rowvars['val'] = row.iloc[i]\n",
    "            rowtext += rowhtml.render(rowvars)\n",
    "        \n",
    "        # Create a page using the above table.\n",
    "        output += shopperhtml.render({'date': date, 'data': rowtext, 'shoppername': row['Name']})\n",
    "    \n",
    "    return output"
   ]
  },
  {
   "cell_type": "code",
   "execution_count": 7,
   "id": "bd847c7d-13e8-4576-b721-a2eec3bb98f0",
   "metadata": {},
   "outputs": [],
   "source": [
    "from jinja2 import Template\n",
    "\n",
    "# Define HTML templates using Jinja2 for printing the data.\n",
    "\n",
    "# Template for the whole report, including style.\n",
    "\n",
    "orders = Template('''\n",
    "<!DOCTYPE html>\n",
    "<style>\n",
    "    @media print {\n",
    "        h1 { \n",
    "            break-before: recto; \n",
    "            font-family: Arial;\n",
    "        }\n",
    "    }\n",
    "    table tr td { font-family: Arial; }\n",
    "    table { width: 100%; }\n",
    "    th { font-size: 7mm; }\n",
    "    td { border-bottom: 1px solid #ddd; }\n",
    "    td.category { width: 35%; }\n",
    "</style>\n",
    "<html>\n",
    "<head>\n",
    "<meta charset=\"ISO-8859-1\">\n",
    "<title>{{title}}</title>\n",
    "</head>\n",
    "<body>\n",
    "{{body}}\n",
    "</body>\n",
    "</html>\n",
    "''')\n",
    "\n",
    "# Template for each shopper\n",
    "# TODO: Should we make the title more useful? \n",
    "#       Different titles for main page and summary page?\n",
    "shopperhtml = Template('''\n",
    "<h1 class=\"shopper-name\">PANTRY ORDER FORM ({{date}})</h1>\n",
    "<table>\n",
    "<thead><tr><th colspan=2>{{shoppername}}</th></tr></thead>\n",
    "{{data}}\n",
    "</table>\n",
    "''')\n",
    "\n",
    "coversheet = Template('''\n",
    "<h2>NCC Pantry Order Print Cover Sheet for {{date}}</h2>\n",
    "<p>Order forms received this week: {{received}}</p>\n",
    "<p>Unique Orders Printed: {{printed}}</p>\n",
    "''')\n",
    "\n",
    "sectionheader = '''\n",
    "<h1>One Page Summaries for Refrigerated Items</h1>\n",
    "'''\n",
    "\n",
    "# Template for each row\n",
    "rowhtml = Template('<tr><td class=\"category\">{{key}}</td><td>{{val}}</td></tr>')\n"
   ]
  },
  {
   "cell_type": "code",
   "execution_count": 8,
   "id": "95ef6519-c4e0-45db-b04b-b6581988db57",
   "metadata": {},
   "outputs": [],
   "source": [
    "# Collect the summary for only refrigerated items. (\"page 1\")\n",
    "# Include only the following fields in the Summary.\n",
    "summary = allorders[[\n",
    "    'Name', \n",
    "    'Number of people in household', \n",
    "    'Pickup Time',\n",
    "    'Address', \n",
    "    'Email', \n",
    "    'Phone', \n",
    "    'MEATS/FROZEN ITEMS', \n",
    "    'REFRIGERATED ITEMS', \n",
    "    'FRESH PRODUCE'\n",
    "]]\n",
    "summary = summary.sort_values(by = 'Pickup Time') "
   ]
  },
  {
   "cell_type": "code",
   "execution_count": 9,
   "id": "57b077d3-83e2-4a02-bd98-a39af7e0410e",
   "metadata": {},
   "outputs": [],
   "source": [
    "# Build the report using Jinja2.\n",
    "output = coversheet.render({'received': received, 'printed': printed, 'date': title_date})\n",
    "output += formatshoppers(title_date, allorders) \n",
    "output += sectionheader\n",
    "output += formatshoppers(title_date, summary)\n",
    "\n",
    "html = orders.render({'title': name, 'body': output})"
   ]
  },
  {
   "cell_type": "code",
   "execution_count": 10,
   "id": "f473c33f-e1c5-4b3e-8910-c652c22ebe50",
   "metadata": {},
   "outputs": [
    {
     "name": "stdout",
     "output_type": "stream",
     "text": [
      "Wrote C:\\Users\\ralph\\Downloads\\NCC Food Pantry Orders.html\n"
     ]
    }
   ],
   "source": [
    "# Write out the file to print.\n",
    "with open(upload_file, 'w') as f:\n",
    "    f.write(html)\n",
    "print('Wrote {file}'.format(file = upload_file))"
   ]
  },
  {
   "cell_type": "code",
   "execution_count": 13,
   "id": "d91f6e5a-941c-4156-a2d1-6a8919c15cce",
   "metadata": {},
   "outputs": [],
   "source": [
    "# Optional: Display the report here.\n",
    "import IPython\n",
    "# IPython.display.HTML(html)"
   ]
  }
 ],
 "metadata": {
  "kernelspec": {
   "display_name": "Python 3 (ipykernel)",
   "language": "python",
   "name": "python3"
  },
  "language_info": {
   "codemirror_mode": {
    "name": "ipython",
    "version": 3
   },
   "file_extension": ".py",
   "mimetype": "text/x-python",
   "name": "python",
   "nbconvert_exporter": "python",
   "pygments_lexer": "ipython3",
   "version": "3.11.4"
  }
 },
 "nbformat": 4,
 "nbformat_minor": 5
}
