{
 "cells": [
  {
   "cell_type": "code",
   "execution_count": 1,
   "id": "f3445017-12d4-4f90-a95a-984cc0f1427e",
   "metadata": {},
   "outputs": [
    {
     "name": "stdout",
     "output_type": "stream",
     "text": [
      "Download the spreadsheet from the following link. Copy the full path into the 'attendancereport' below.\n",
      "https://newmarketchurch.breezechms.com/events/reports/243292484#/start_date=02%2F01%2F2024&end_date=02%2F29%2F2024&event_ids=2949650&attendance_status=attended&attendance_operator=any&page=spreadsheet\n"
     ]
    }
   ],
   "source": [
    "# Create monthly report url\n",
    "\n",
    "# To run this directly from the command line, \n",
    "# jupyter nbconvert --execute \"USDA Monthly Report.ipynb\" --to asciidoc\n",
    "\n",
    "from datetime import datetime, timedelta, date\n",
    "import urllib.parse\n",
    "\n",
    "report_date = '2/29/2024'\n",
    "\n",
    "end = datetime.strptime(report_date, '%m/%d/%Y')\n",
    "start = date(end.year, end.month, 1)\n",
    "# start = date(end.year, 1, 1)\n",
    "\n",
    "ncc_url = r\"https://newmarketchurch.breezechms.com\"\n",
    "base_url = ncc_url + r\"/events/reports/243292484#/\"\n",
    "\n",
    "import urllib.parse\n",
    "params = {\n",
    "    'start_date': urllib.parse.quote(start.strftime('%m/%d/%Y'), safe='/'),\n",
    "    'end_date': urllib.parse.quote(end.strftime('%m/%d/%Y'), safe='/'),\n",
    "    'event_ids': '2949650',\n",
    "    'attendance_status': 'attended',\n",
    "    'attendance_operator': 'any',\n",
    "    'page': 'spreadsheet',\n",
    "}\n",
    "\n",
    "print(\"Download the spreadsheet from the following link. Copy the full path into the 'attendancereport' below.\")\n",
    "print(base_url + urllib.parse.urlencode(params))"
   ]
  },
  {
   "cell_type": "code",
   "execution_count": 2,
   "id": "10d86cea-4997-4d7c-a26c-1e29624f2d14",
   "metadata": {},
   "outputs": [
    {
     "name": "stdout",
     "output_type": "stream",
     "text": [
      "115 people in input.\n"
     ]
    }
   ],
   "source": [
    "# This is the file that was downloaded from https://newmarketchurch.breezechms.com/events/reports/243292472#/&start_date=10%2F01%2F2023&end_date=10%2F31%2F2023&event_ids=2949650&attendance_status=attended&attendance_operator=any&page=spreadsheet\n",
    "\n",
    "attendancereport = r\"C:\\Users\\ralph\\Downloads\\FoodPantry-attendance-02-03-2024.xlsx\"\n",
    "peopleexport = r\"C:\\Users\\ralph\\Downloads\\newmarketchurch-people-02-03-2024.xlsx\"\n",
    "\n",
    "# Paste this file into this month's tab in https://docs.google.com/spreadsheets/d/1hAdgMh7_m73L--bR-rUT2dZPMwEJ8s2e/edit#gid=1826328980\n",
    "paste_file = r\"C:\\Users\\ralph\\Downloads\\paste_me.csv\"\n",
    "summary_file = r\"C:\\Users\\ralph\\Downloads\\USDA_summary.csv\"\n",
    "\n",
    "import numpy as np\n",
    "import pandas as pd\n",
    "\n",
    "# Read in the downloaded Excel file \n",
    "attendance = pd.read_excel(attendancereport)\n",
    "\n",
    "# drop the Total row\n",
    "attendance = attendance[attendance['Breeze ID'].notna()]\n",
    "\n",
    "people = pd.read_excel(peopleexport)\n",
    "print('{count} people in input.'.format(count = len(attendance.index)))"
   ]
  },
  {
   "cell_type": "code",
   "execution_count": 3,
   "id": "2304c3c8-f002-4555-93c2-28aca7b64e98",
   "metadata": {},
   "outputs": [
    {
     "data": {
      "text/plain": [
       "Index(['Breeze ID', 'First Name', 'Last Name', 'Feb 1, 2024', 'Feb 8, 2024',\n",
       "       'Feb 15, 2024', 'Feb 22, 2024', 'Feb 29, 2024', 'Person Totals'],\n",
       "      dtype='object')"
      ]
     },
     "metadata": {},
     "output_type": "display_data"
    }
   ],
   "source": [
    "display(attendance.columns)"
   ]
  },
  {
   "cell_type": "code",
   "execution_count": 4,
   "id": "55716950-5cdb-4a17-bb80-53ef6b212422",
   "metadata": {},
   "outputs": [],
   "source": [
    "# Keep only the columns we use.\n",
    "\n",
    "attendance = attendance[[\n",
    "    'Breeze ID', \n",
    "    'First Name', \n",
    "    'Last Name', \n",
    "    'Person Totals'\n",
    "]]\n",
    "\n",
    "people = people[[\n",
    "    'Breeze ID',\n",
    "    'Date of First Contact',\n",
    "    'How many people live in your household? (including yourself)',\n",
    "    'Total number of people aged 18 or under in household?',\n",
    "    'Total number of people between the ages of 19-59 in household?',\n",
    "    'Total number of people aged 60 or older in Household?',\n",
    "    'City'\n",
    "]]\n"
   ]
  },
  {
   "cell_type": "code",
   "execution_count": 5,
   "id": "9e609149-15bb-453b-8a74-e96d589b6b23",
   "metadata": {},
   "outputs": [],
   "source": [
    "# Include household numbers from the people profiles.\n",
    "\n",
    "report = pd.merge(attendance, people, on = 'Breeze ID', how = \"inner\")\n",
    "report.fillna(0, inplace=True)\n",
    "\n",
    "# print('{count} people in report.'.format(count = len(report.index)))"
   ]
  },
  {
   "cell_type": "code",
   "execution_count": 6,
   "id": "4dafea2a-0588-4621-ab68-141abb61c1db",
   "metadata": {},
   "outputs": [],
   "source": [
    "# Clean up the City column.\n",
    "\n",
    "def clean(word):\n",
    "    if word == 0:\n",
    "        return 'unknown'\n",
    "    return word.strip().title()\n",
    "    \n",
    "report['City'] = report['City'].apply(clean)"
   ]
  },
  {
   "cell_type": "code",
   "execution_count": 7,
   "id": "d462a5f3-d638-406b-99be-941d07eb7628",
   "metadata": {},
   "outputs": [],
   "source": [
    "# Validate the data \n",
    "\n",
    "# Check for numbers in numeric fields\n",
    "numeric_fields = [\n",
    "    'Total number of people aged 18 or under in household?',\n",
    "    'Total number of people between the ages of 19-59 in household?',\n",
    "    'Total number of people aged 60 or older in Household?',\n",
    "]\n",
    "# fillna() fills with a float, so make it an int.\n",
    "for column in numeric_fields:\n",
    "    report[column] = report[column].astype(int)\n",
    "\n",
    "for field in numeric_fields:\n",
    "    if len(report[~report.map(np.isreal)[field]]) > 0:\n",
    "        display(field, report[~report.map(np.isreal)[field]])\n",
    "\n",
    "bad_in_house = report.loc[report['How many people live in your household? (including yourself)'] == 0] \n",
    "if len(bad_in_house):\n",
    "    print(\"Missing 'Total in house' for\")\n",
    "    display(report.loc[report['How many people live in your household? (including yourself)'] == 0])\n",
    "\n",
    "bad_totals = report.loc[report['How many people live in your household? (including yourself)'] != \n",
    "        report['Total number of people aged 18 or under in household?'] + \n",
    "        report['Total number of people between the ages of 19-59 in household?'] + \n",
    "        report['Total number of people aged 60 or older in Household?']\n",
    "    ]\n",
    "if len(bad_totals) > 0:\n",
    "    print(\"Age breakdowns do not add up to total for\")\n",
    "    display(bad_totals)"
   ]
  },
  {
   "cell_type": "code",
   "execution_count": 8,
   "id": "8e470c61-527f-45f0-9a00-f8ab828a3c47",
   "metadata": {},
   "outputs": [],
   "source": [
    "report.to_csv(paste_file, index=False)"
   ]
  },
  {
   "cell_type": "code",
   "execution_count": 10,
   "id": "333335ac-496e-4287-a751-3bdc175f3d14",
   "metadata": {},
   "outputs": [
    {
     "ename": "KeyError",
     "evalue": "'City'",
     "output_type": "error",
     "traceback": [
      "\u001b[1;31m---------------------------------------------------------------------------\u001b[0m",
      "\u001b[1;31mKeyError\u001b[0m                                  Traceback (most recent call last)",
      "Cell \u001b[1;32mIn[10], line 27\u001b[0m\n\u001b[0;32m     25\u001b[0m     \u001b[38;5;28;01mif\u001b[39;00m town \u001b[38;5;241m==\u001b[39m SeniorCenter[\u001b[38;5;124m'\u001b[39m\u001b[38;5;124mCity\u001b[39m\u001b[38;5;124m'\u001b[39m]:\n\u001b[0;32m     26\u001b[0m         \u001b[38;5;28;01mfor\u001b[39;00m key, value \u001b[38;5;129;01min\u001b[39;00m SeniorCenter\u001b[38;5;241m.\u001b[39mitems():\n\u001b[1;32m---> 27\u001b[0m             \u001b[43mrow\u001b[49m\u001b[43m[\u001b[49m\u001b[43mkey\u001b[49m\u001b[43m]\u001b[49m \u001b[38;5;241m+\u001b[39m\u001b[38;5;241m=\u001b[39m value\n\u001b[0;32m     28\u001b[0m     summary\u001b[38;5;241m.\u001b[39mappend(row)\n\u001b[0;32m     30\u001b[0m row \u001b[38;5;241m=\u001b[39m {}\n",
      "\u001b[1;31mKeyError\u001b[0m: 'City'"
     ]
    }
   ],
   "source": [
    "# Create the summary for the USDA monthly report.\n",
    "\n",
    "MealsPerWeek = 15\n",
    "\n",
    "numberOfSeniors = 25\n",
    "SeniorCenter = {\n",
    "    # 'City': 'Newmarket',\n",
    "    'Households': numberOfSeniors,\n",
    "    'Individuals': numberOfSeniors * attendance['Person Totals'].max(),\n",
    "    'Meals': MealsPerWeek * numberOfSeniors * attendance['Person Totals'].max(),\n",
    "    'Over 60': numberOfSeniors * attendance['Person Totals'].max()\n",
    "}\n",
    "\n",
    "summary = []\n",
    "\n",
    "for town in set([t for t in report['City'].unique().flatten()]):\n",
    "    row = {}\n",
    "    row['Town'] = town\n",
    "    filtered = report.loc[report['City'] == town]\n",
    "    row['Households'] = len(filtered)\n",
    "    row['Individuals'] = (filtered['How many people live in your household? (including yourself)'] * filtered['Person Totals']).sum()\n",
    "    row['Meals'] = MealsPerWeek * (filtered['How many people live in your household? (including yourself)'] * filtered['Person Totals']).sum()\n",
    "    row['Over 60'] = (filtered['Total number of people aged 60 or older in Household?'] * filtered['Person Totals']).sum()\n",
    "    row['Children'] = (filtered['Total number of people aged 18 or under in household?'] * filtered['Person Totals']).sum()\n",
    "    if town == SeniorCenter['City']:\n",
    "        for key, value in SeniorCenter.items():\n",
    "            row[key] += value\n",
    "    summary.append(row)\n",
    "    \n",
    "row = {}\n",
    "row['Town'] = 'TOTAL'\n",
    "row['Households'] = len(report)\n",
    "row['Individuals'] = (report['How many people live in your household? (including yourself)'] * report['Person Totals']).sum()\n",
    "row['Meals'] = MealsPerWeek * (report['How many people live in your household? (including yourself)'] * report['Person Totals']).sum()\n",
    "row['Over 60'] = (report['Total number of people aged 60 or older in Household?'] * report['Person Totals']).sum()\n",
    "row['Children'] = (report['Total number of people aged 18 or under in household?'] * report['Person Totals']).sum()\n",
    "for key, value in SeniorCenter.items():\n",
    "    row[key] += value\n",
    "\n",
    "summary.append(row)\n",
    "\n",
    "pd.DataFrame(summary).to_csv(summary_file, index=False)\n",
    "display(pd.DataFrame(summary))\n"
   ]
  }
 ],
 "metadata": {
  "kernelspec": {
   "display_name": "Python 3 (ipykernel)",
   "language": "python",
   "name": "python3"
  },
  "language_info": {
   "codemirror_mode": {
    "name": "ipython",
    "version": 3
   },
   "file_extension": ".py",
   "mimetype": "text/x-python",
   "name": "python",
   "nbconvert_exporter": "python",
   "pygments_lexer": "ipython3",
   "version": "3.11.4"
  }
 },
 "nbformat": 4,
 "nbformat_minor": 5
}
