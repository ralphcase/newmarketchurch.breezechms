{
 "cells": [
  {
   "cell_type": "code",
   "execution_count": 1,
   "id": "f3445017-12d4-4f90-a95a-984cc0f1427e",
   "metadata": {},
   "outputs": [
    {
     "name": "stdout",
     "output_type": "stream",
     "text": [
      "Download the spreadsheet from the following link. Copy the full path into the 'attendancereport' below.\n",
      "https://newmarketchurch.breezechms.com/events/reports/243292472#/start_date=11%2F01%2F2023&end_date=11%2F30%2F2023&event_ids=2949650&attendance_status=attended&attendance_operator=any&page=spreadsheet\n"
     ]
    }
   ],
   "source": [
    "# Create monthly report url\n",
    "\n",
    "# To run this directly from the command line, \n",
    "# jupyter nbconvert --execute \"USDA Monthly Report.ipynb\" --to asciidoc\n",
    "\n",
    "from datetime import datetime, timedelta, date\n",
    "# from urllib.parse import urlencode\n",
    "import urllib.parse\n",
    "\n",
    "report_date = '11/30/2023'\n",
    "\n",
    "end = datetime.strptime(report_date, '%m/%d/%Y')\n",
    "start = date(end.year, end.month, 1)\n",
    "\n",
    "\n",
    "# from breeze import breeze\n",
    "# breeze_api = breeze.BreezeApi(\n",
    "#     breeze_url = ncc_url,\n",
    "#     api_key='YourApiKey')\n",
    "\n",
    "ncc_url = r\"https://newmarketchurch.breezechms.com\"\n",
    "base_url = ncc_url + r\"/events/reports/243292472#/\"\n",
    "\n",
    "\n",
    "import urllib.parse\n",
    "params = {\n",
    "    'start_date': urllib.parse.quote(start.strftime('%m/%d/%Y'), safe='/'),\n",
    "    'end_date': urllib.parse.quote(end.strftime('%m/%d/%Y'), safe='/'),\n",
    "    'event_ids': '2949650',\n",
    "    'attendance_status': 'attended',\n",
    "    'attendance_operator': 'any',\n",
    "    'page': 'spreadsheet',\n",
    "}\n",
    "\n",
    "print(\"Download the spreadsheet from the following link. Copy the full path into the 'attendancereport' below.\")\n",
    "print(base_url + urllib.parse.urlencode(params))"
   ]
  },
  {
   "cell_type": "code",
   "execution_count": 2,
   "id": "10d86cea-4997-4d7c-a26c-1e29624f2d14",
   "metadata": {},
   "outputs": [],
   "source": [
    "# This is the file that was downloaded from https://newmarketchurch.breezechms.com/events/reports/243292472#/&start_date=10%2F01%2F2023&end_date=10%2F31%2F2023&event_ids=2949650&attendance_status=attended&attendance_operator=any&page=spreadsheet\n",
    "\n",
    "attendancereport = r\"C:\\Users\\ralph\\Downloads\\FoodPantry-attendance-11-01-2023.xlsx\"\n",
    "peopleexport = r\"C:\\Users\\ralph\\Downloads\\newmarketchurch-people-11-01-2023 (2).xlsx\"\n",
    "\n",
    "# Paste this file into this month's tab in https://docs.google.com/spreadsheets/d/1hAdgMh7_m73L--bR-rUT2dZPMwEJ8s2e/edit#gid=1826328980\n",
    "paste_file = r\"C:\\Users\\ralph\\Downloads\\paste_me.csv\"\n",
    "\n",
    "import numpy as np\n",
    "import pandas as pd\n",
    "\n",
    "# Read in the downloaded Excel file \n",
    "attendance = pd.read_excel(attendancereport)\n",
    "people = pd.read_excel(peopleexport)\n",
    "# print('{count} people in input.'.format(count = len(attendance.index)))"
   ]
  },
  {
   "cell_type": "code",
   "execution_count": 3,
   "id": "2304c3c8-f002-4555-93c2-28aca7b64e98",
   "metadata": {},
   "outputs": [
    {
     "data": {
      "text/plain": [
       "Index(['Breeze ID', 'First Name', 'Last Name', 'Oct 5, 2023', 'Oct 12, 2023',\n",
       "       'Oct 19, 2023', 'Oct 26, 2023', 'Person Totals'],\n",
       "      dtype='object')"
      ]
     },
     "execution_count": 3,
     "metadata": {},
     "output_type": "execute_result"
    }
   ],
   "source": [
    "attendance.columns"
   ]
  },
  {
   "cell_type": "code",
   "execution_count": 4,
   "id": "55716950-5cdb-4a17-bb80-53ef6b212422",
   "metadata": {},
   "outputs": [
    {
     "data": {
      "text/html": [
       "<div>\n",
       "<style scoped>\n",
       "    .dataframe tbody tr th:only-of-type {\n",
       "        vertical-align: middle;\n",
       "    }\n",
       "\n",
       "    .dataframe tbody tr th {\n",
       "        vertical-align: top;\n",
       "    }\n",
       "\n",
       "    .dataframe thead th {\n",
       "        text-align: right;\n",
       "    }\n",
       "</style>\n",
       "<table border=\"1\" class=\"dataframe\">\n",
       "  <thead>\n",
       "    <tr style=\"text-align: right;\">\n",
       "      <th></th>\n",
       "      <th>Breeze ID</th>\n",
       "      <th>First Name</th>\n",
       "      <th>Last Name</th>\n",
       "      <th>Person Totals</th>\n",
       "    </tr>\n",
       "  </thead>\n",
       "  <tbody>\n",
       "    <tr>\n",
       "      <th>0</th>\n",
       "      <td>47038995.0</td>\n",
       "      <td>Samantha</td>\n",
       "      <td>Adario</td>\n",
       "      <td>2</td>\n",
       "    </tr>\n",
       "    <tr>\n",
       "      <th>1</th>\n",
       "      <td>46986494.0</td>\n",
       "      <td>Tomi</td>\n",
       "      <td>Adewuyi</td>\n",
       "      <td>1</td>\n",
       "    </tr>\n",
       "    <tr>\n",
       "      <th>2</th>\n",
       "      <td>44557131.0</td>\n",
       "      <td>Patricia</td>\n",
       "      <td>Alielouahed</td>\n",
       "      <td>3</td>\n",
       "    </tr>\n",
       "    <tr>\n",
       "      <th>3</th>\n",
       "      <td>43643318.0</td>\n",
       "      <td>Roberta</td>\n",
       "      <td>Anderson</td>\n",
       "      <td>4</td>\n",
       "    </tr>\n",
       "    <tr>\n",
       "      <th>4</th>\n",
       "      <td>45830007.0</td>\n",
       "      <td>Donald</td>\n",
       "      <td>April</td>\n",
       "      <td>4</td>\n",
       "    </tr>\n",
       "    <tr>\n",
       "      <th>...</th>\n",
       "      <td>...</td>\n",
       "      <td>...</td>\n",
       "      <td>...</td>\n",
       "      <td>...</td>\n",
       "    </tr>\n",
       "    <tr>\n",
       "      <th>169</th>\n",
       "      <td>45883734.0</td>\n",
       "      <td>Christy</td>\n",
       "      <td>Wyatt</td>\n",
       "      <td>4</td>\n",
       "    </tr>\n",
       "    <tr>\n",
       "      <th>170</th>\n",
       "      <td>30397680.0</td>\n",
       "      <td>Orson P.</td>\n",
       "      <td>Yancey</td>\n",
       "      <td>4</td>\n",
       "    </tr>\n",
       "    <tr>\n",
       "      <th>171</th>\n",
       "      <td>46915460.0</td>\n",
       "      <td>Christopher</td>\n",
       "      <td>Young</td>\n",
       "      <td>1</td>\n",
       "    </tr>\n",
       "    <tr>\n",
       "      <th>172</th>\n",
       "      <td>43643495.0</td>\n",
       "      <td>Patricia</td>\n",
       "      <td>Zwearcan</td>\n",
       "      <td>3</td>\n",
       "    </tr>\n",
       "    <tr>\n",
       "      <th>173</th>\n",
       "      <td>NaN</td>\n",
       "      <td>NaN</td>\n",
       "      <td>NaN</td>\n",
       "      <td>436</td>\n",
       "    </tr>\n",
       "  </tbody>\n",
       "</table>\n",
       "<p>174 rows × 4 columns</p>\n",
       "</div>"
      ],
      "text/plain": [
       "      Breeze ID   First Name    Last Name  Person Totals\n",
       "0    47038995.0     Samantha       Adario              2\n",
       "1    46986494.0         Tomi      Adewuyi              1\n",
       "2    44557131.0     Patricia  Alielouahed              3\n",
       "3    43643318.0      Roberta     Anderson              4\n",
       "4    45830007.0       Donald        April              4\n",
       "..          ...          ...          ...            ...\n",
       "169  45883734.0      Christy        Wyatt              4\n",
       "170  30397680.0     Orson P.       Yancey              4\n",
       "171  46915460.0  Christopher        Young              1\n",
       "172  43643495.0     Patricia     Zwearcan              3\n",
       "173         NaN          NaN          NaN            436\n",
       "\n",
       "[174 rows x 4 columns]"
      ]
     },
     "metadata": {},
     "output_type": "display_data"
    }
   ],
   "source": [
    "attendance = attendance[[\n",
    "    'Breeze ID', \n",
    "    'First Name', \n",
    "    'Last Name', \n",
    "    'Person Totals'\n",
    "]]\n",
    "display(attendance)"
   ]
  },
  {
   "cell_type": "code",
   "execution_count": 5,
   "id": "d6e72535-8714-4c58-90fa-8f261f4578c2",
   "metadata": {},
   "outputs": [],
   "source": [
    "# people.columns"
   ]
  },
  {
   "cell_type": "code",
   "execution_count": 6,
   "id": "2bbc7b83-0dae-44cd-ab44-10f8b7df193f",
   "metadata": {},
   "outputs": [],
   "source": [
    "people = people[[\n",
    "    'Breeze ID',\n",
    "    'Date of First Contact',\n",
    "    'How many people live in your household? (including yourself)',\n",
    "    'Total number of people aged 18 or under in household?',\n",
    "    'Total number of people between the ages of 19-59 in household?',\n",
    "    'Total number of people aged 60 or older in Household?',\n",
    "    'City'\n",
    "]]\n",
    "\n",
    "# people['Total number of people aged 18 or under in household?'] = people['Total number of people aged 18 or under in household?'].astype(int)"
   ]
  },
  {
   "cell_type": "code",
   "execution_count": 7,
   "id": "9e609149-15bb-453b-8a74-e96d589b6b23",
   "metadata": {},
   "outputs": [
    {
     "name": "stdout",
     "output_type": "stream",
     "text": [
      "173 people in report.\n"
     ]
    }
   ],
   "source": [
    "report = pd.merge(attendance, people, on = 'Breeze ID', how = \"inner\")\n",
    "report.fillna(0, inplace=True)\n",
    "print('{count} people in report.'.format(count = len(report.index)))\n",
    "# report[~report.map(np.isreal)['Total number of people aged 18 or under in household?']]\n",
    "# report[~report.map(np.isreal)['Total number of people between the ages of 19-59 in household?']]\n",
    "# report[~report.map(np.isreal)['Total number of people aged 60 or older in Household?']]\n",
    "\n",
    "# display(report)"
   ]
  },
  {
   "cell_type": "code",
   "execution_count": 8,
   "id": "8e470c61-527f-45f0-9a00-f8ab828a3c47",
   "metadata": {},
   "outputs": [],
   "source": [
    "report.to_csv(paste_file, index=False)"
   ]
  },
  {
   "cell_type": "code",
   "execution_count": 9,
   "id": "d462a5f3-d638-406b-99be-941d07eb7628",
   "metadata": {},
   "outputs": [
    {
     "name": "stdout",
     "output_type": "stream",
     "text": [
      "Missing 'Total in house' for\n"
     ]
    },
    {
     "data": {
      "text/html": [
       "<div>\n",
       "<style scoped>\n",
       "    .dataframe tbody tr th:only-of-type {\n",
       "        vertical-align: middle;\n",
       "    }\n",
       "\n",
       "    .dataframe tbody tr th {\n",
       "        vertical-align: top;\n",
       "    }\n",
       "\n",
       "    .dataframe thead th {\n",
       "        text-align: right;\n",
       "    }\n",
       "</style>\n",
       "<table border=\"1\" class=\"dataframe\">\n",
       "  <thead>\n",
       "    <tr style=\"text-align: right;\">\n",
       "      <th></th>\n",
       "      <th>Breeze ID</th>\n",
       "      <th>First Name</th>\n",
       "      <th>Last Name</th>\n",
       "      <th>Person Totals</th>\n",
       "      <th>Date of First Contact</th>\n",
       "      <th>How many people live in your household? (including yourself)</th>\n",
       "      <th>Total number of people aged 18 or under in household?</th>\n",
       "      <th>Total number of people between the ages of 19-59 in household?</th>\n",
       "      <th>Total number of people aged 60 or older in Household?</th>\n",
       "      <th>City</th>\n",
       "    </tr>\n",
       "  </thead>\n",
       "  <tbody>\n",
       "  </tbody>\n",
       "</table>\n",
       "</div>"
      ],
      "text/plain": [
       "Empty DataFrame\n",
       "Columns: [Breeze ID, First Name, Last Name, Person Totals, Date of First Contact, How many people live in your household? (including yourself), Total number of people aged 18 or under in household?, Total number of people between the ages of 19-59 in household?, Total number of people aged 60 or older in Household?, City]\n",
       "Index: []"
      ]
     },
     "metadata": {},
     "output_type": "display_data"
    }
   ],
   "source": [
    "print(\"Missing 'Total in house' for\")\n",
    "display(report.loc[report['How many people live in your household? (including yourself)'] == 0])"
   ]
  },
  {
   "cell_type": "code",
   "execution_count": 10,
   "id": "3ccd03ed-cd04-4e15-a7b5-20d469eac328",
   "metadata": {},
   "outputs": [
    {
     "name": "stdout",
     "output_type": "stream",
     "text": [
      "Age breakdowns do not add up to total for\n"
     ]
    },
    {
     "data": {
      "text/html": [
       "<div>\n",
       "<style scoped>\n",
       "    .dataframe tbody tr th:only-of-type {\n",
       "        vertical-align: middle;\n",
       "    }\n",
       "\n",
       "    .dataframe tbody tr th {\n",
       "        vertical-align: top;\n",
       "    }\n",
       "\n",
       "    .dataframe thead th {\n",
       "        text-align: right;\n",
       "    }\n",
       "</style>\n",
       "<table border=\"1\" class=\"dataframe\">\n",
       "  <thead>\n",
       "    <tr style=\"text-align: right;\">\n",
       "      <th></th>\n",
       "      <th>Breeze ID</th>\n",
       "      <th>First Name</th>\n",
       "      <th>Last Name</th>\n",
       "      <th>Person Totals</th>\n",
       "      <th>Date of First Contact</th>\n",
       "      <th>How many people live in your household? (including yourself)</th>\n",
       "      <th>Total number of people aged 18 or under in household?</th>\n",
       "      <th>Total number of people between the ages of 19-59 in household?</th>\n",
       "      <th>Total number of people aged 60 or older in Household?</th>\n",
       "      <th>City</th>\n",
       "    </tr>\n",
       "  </thead>\n",
       "  <tbody>\n",
       "  </tbody>\n",
       "</table>\n",
       "</div>"
      ],
      "text/plain": [
       "Empty DataFrame\n",
       "Columns: [Breeze ID, First Name, Last Name, Person Totals, Date of First Contact, How many people live in your household? (including yourself), Total number of people aged 18 or under in household?, Total number of people between the ages of 19-59 in household?, Total number of people aged 60 or older in Household?, City]\n",
       "Index: []"
      ]
     },
     "metadata": {},
     "output_type": "display_data"
    }
   ],
   "source": [
    "print(\"Age breakdowns do not add up to total for\")\n",
    "display(report.loc[report['How many people live in your household? (including yourself)'] != \n",
    "        report['Total number of people aged 18 or under in household?'] + \n",
    "        report['Total number of people between the ages of 19-59 in household?'] + \n",
    "        report['Total number of people aged 60 or older in Household?']\n",
    "])"
   ]
  }
 ],
 "metadata": {
  "kernelspec": {
   "display_name": "Python 3 (ipykernel)",
   "language": "python",
   "name": "python3"
  },
  "language_info": {
   "codemirror_mode": {
    "name": "ipython",
    "version": 3
   },
   "file_extension": ".py",
   "mimetype": "text/x-python",
   "name": "python",
   "nbconvert_exporter": "python",
   "pygments_lexer": "ipython3",
   "version": "3.11.4"
  }
 },
 "nbformat": 4,
 "nbformat_minor": 5
}
