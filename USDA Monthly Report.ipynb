{
 "cells": [
  {
   "cell_type": "code",
   "execution_count": 1,
   "id": "f3445017-12d4-4f90-a95a-984cc0f1427e",
   "metadata": {},
   "outputs": [
    {
     "name": "stdout",
     "output_type": "stream",
     "text": [
      "Download the spreadsheet from the following link. Copy the full path into the 'attendancereport' below.\n",
      "https://newmarketchurch.breezechms.com/events/reports/243292484#/start_date=10%2F01%2F2024&end_date=10%2F31%2F2024&event_ids=2949650&attendance_status=attended&attendance_operator=any&page=spreadsheet\n"
     ]
    }
   ],
   "source": [
    "# Create monthly report url\n",
    "\n",
    "# To run this directly from the command line, \n",
    "# jupyter nbconvert --execute \"USDA Monthly Report.ipynb\" --to asciidoc\n",
    "\n",
    "from datetime import datetime, timedelta, date\n",
    "import urllib.parse\n",
    "\n",
    "report_date = '10/31/2024'\n",
    "# report_date = '12/31/2022'\n",
    "\n",
    "end = datetime.strptime(report_date, '%m/%d/%Y')\n",
    "start = date(end.year, end.month, 1)\n",
    "# start = date(end.year, 1, 1)\n",
    "\n",
    "import config\n",
    "base_url = config.church_domain_url + r\"/events/reports/243292484#/\"\n",
    "\n",
    "import urllib.parse\n",
    "params = {\n",
    "    'start_date': urllib.parse.quote(start.strftime('%m/%d/%Y'), safe='/'),\n",
    "    'end_date': urllib.parse.quote(end.strftime('%m/%d/%Y'), safe='/'),\n",
    "    'event_ids': '2949650',\n",
    "    'attendance_status': 'attended',\n",
    "    'attendance_operator': 'any',\n",
    "    'page': 'spreadsheet',\n",
    "}\n",
    "\n",
    "print(\"Download the spreadsheet from the following link. Copy the full path into the 'attendancereport' below.\")\n",
    "print(base_url + urllib.parse.urlencode(params))"
   ]
  },
  {
   "cell_type": "code",
   "execution_count": 2,
   "id": "10d86cea-4997-4d7c-a26c-1e29624f2d14",
   "metadata": {},
   "outputs": [
    {
     "name": "stdout",
     "output_type": "stream",
     "text": [
      "186 people in input.\n"
     ]
    }
   ],
   "source": [
    "# This is the file that was downloaded from https://newmarketchurch.breezechms.com/events/reports/243292472#/&start_date=10%2F01%2F2023&end_date=10%2F31%2F2023&event_ids=2949650&attendance_status=attended&attendance_operator=any&page=spreadsheet\n",
    "\n",
    "attendancereport = r\"C:\\Users\\ralph\\Downloads\\FoodPantry-attendance-11-28-2024.xlsx\"\n",
    "peopleexport = r\"C:\\Users\\ralph\\Downloads\\newmarketchurch-people-11-28-2024.xlsx\"\n",
    "\n",
    "# Paste this file into this month's tab in https://docs.google.com/spreadsheets/d/1hAdgMh7_m73L--bR-rUT2dZPMwEJ8s2e/edit#gid=1826328980\n",
    "paste_file = r\"C:\\Users\\ralph\\Downloads\\paste_me.csv\"\n",
    "summary_file = r\"C:\\Users\\ralph\\Downloads\\USDA_summary.csv\"\n",
    "\n",
    "import numpy as np\n",
    "import pandas as pd\n",
    "\n",
    "# Read in the downloaded Excel file \n",
    "attendance = pd.read_excel(attendancereport)\n",
    "\n",
    "# drop the Total row\n",
    "attendance = attendance[attendance['Breeze ID'].notna()]\n",
    "\n",
    "people = pd.read_excel(peopleexport)\n",
    "print('{count} people in input.'.format(count = len(attendance.index)))"
   ]
  },
  {
   "cell_type": "code",
   "execution_count": 3,
   "id": "2304c3c8-f002-4555-93c2-28aca7b64e98",
   "metadata": {},
   "outputs": [
    {
     "data": {
      "text/plain": [
       "Index(['Breeze ID', 'First Name', 'Last Name', 'Oct 3, 2024', 'Oct 10, 2024',\n",
       "       'Oct 17, 2024', 'Oct 24, 2024', 'Oct 31, 2024', 'Person Totals'],\n",
       "      dtype='object')"
      ]
     },
     "metadata": {},
     "output_type": "display_data"
    }
   ],
   "source": [
    "display(attendance.columns)"
   ]
  },
  {
   "cell_type": "code",
   "execution_count": 4,
   "id": "55716950-5cdb-4a17-bb80-53ef6b212422",
   "metadata": {},
   "outputs": [],
   "source": [
    "# Keep only the columns we use.\n",
    "\n",
    "attendance = attendance[[\n",
    "    'Breeze ID', \n",
    "    'First Name', \n",
    "    'Last Name', \n",
    "    'Person Totals'\n",
    "]]\n",
    "\n",
    "people = people[[\n",
    "    'Breeze ID',\n",
    "    'Date of First Contact',\n",
    "    'How many people live in your household? (including yourself)',\n",
    "    'Total number of people aged 18 or under in household?',\n",
    "    'Total number of people between the ages of 19-59 in household?',\n",
    "    'Total number of people aged 60 or older in Household?',\n",
    "    'City'\n",
    "]]\n"
   ]
  },
  {
   "cell_type": "code",
   "execution_count": 5,
   "id": "9e609149-15bb-453b-8a74-e96d589b6b23",
   "metadata": {},
   "outputs": [],
   "source": [
    "# Include household numbers from the people profiles.\n",
    "\n",
    "report = pd.merge(attendance, people, on = 'Breeze ID', how = \"inner\")\n",
    "report.fillna(0, inplace=True)\n",
    "\n",
    "# print('{count} people in report.'.format(count = len(report.index)))"
   ]
  },
  {
   "cell_type": "code",
   "execution_count": 6,
   "id": "4dafea2a-0588-4621-ab68-141abb61c1db",
   "metadata": {},
   "outputs": [],
   "source": [
    "# Clean up the City column.\n",
    "\n",
    "def clean(word):\n",
    "    if word == 0:\n",
    "        return 'unknown'\n",
    "    return word.strip().title()\n",
    "    \n",
    "report['City'] = report['City'].apply(clean)"
   ]
  },
  {
   "cell_type": "code",
   "execution_count": 7,
   "id": "d462a5f3-d638-406b-99be-941d07eb7628",
   "metadata": {},
   "outputs": [],
   "source": [
    "# Validate the data \n",
    "from pandas.api.types import is_numeric_dtype\n",
    "\n",
    "# Check for numbers in numeric fields\n",
    "numeric_fields = [\n",
    "    'Total number of people aged 18 or under in household?',\n",
    "    'Total number of people between the ages of 19-59 in household?',\n",
    "    'Total number of people aged 60 or older in Household?',\n",
    "]\n",
    "\n",
    "for field in numeric_fields:\n",
    "    if len(report[~report.map(np.isreal)[field]]) > 0:\n",
    "        print('Invalid numeric data')\n",
    "        display(field, report[~report.map(np.isreal)[field]])\n",
    "\n",
    "# fillna() fills with a float, so make it an int.\n",
    "for column in numeric_fields:\n",
    "    report[column] = report[column].astype(int)\n",
    "\n",
    "bad_in_house = report.loc[report['How many people live in your household? (including yourself)'] == 0] \n",
    "if len(bad_in_house):\n",
    "    print(\"Missing 'Total in house' for\")\n",
    "    display(report.loc[report['How many people live in your household? (including yourself)'] == 0])\n",
    "\n",
    "bad_totals = report.loc[report['How many people live in your household? (including yourself)'] != \n",
    "        report['Total number of people aged 18 or under in household?'] + \n",
    "        report['Total number of people between the ages of 19-59 in household?'] + \n",
    "        report['Total number of people aged 60 or older in Household?']\n",
    "    ]\n",
    "if len(bad_totals) > 0:\n",
    "    print(\"Age breakdowns do not add up to total for\")\n",
    "    display(bad_totals)"
   ]
  },
  {
   "cell_type": "code",
   "execution_count": 8,
   "id": "8e470c61-527f-45f0-9a00-f8ab828a3c47",
   "metadata": {},
   "outputs": [],
   "source": [
    "report.to_csv(paste_file, index=False)"
   ]
  },
  {
   "cell_type": "code",
   "execution_count": 9,
   "id": "bb86a52c-c08c-4bc7-9a15-7e9500f552a2",
   "metadata": {},
   "outputs": [],
   "source": [
    "def summarize(report):\n",
    "    MealsPerWeek = 15\n",
    "    numberOfSeniors = 25\n",
    "    max_person_totals = attendance['Person Totals'].max()\n",
    "    \n",
    "    SeniorCenter = {\n",
    "        'Households': numberOfSeniors,\n",
    "        'Individuals': numberOfSeniors * max_person_totals,\n",
    "        'Meals': MealsPerWeek * numberOfSeniors * max_person_totals,\n",
    "        'Over 60': numberOfSeniors * max_person_totals\n",
    "    }\n",
    "\n",
    "    def calculate_row(filtered_data, town=None):\n",
    "        row = {\n",
    "            'Town': town or 'TOTAL',\n",
    "            'Households': len(filtered_data),\n",
    "            'Individuals': (filtered_data['How many people live in your household? (including yourself)'] * filtered_data['Person Totals']).sum(),\n",
    "            'Meals': MealsPerWeek * (filtered_data['How many people live in your household? (including yourself)'] * filtered_data['Person Totals']).sum(),\n",
    "            'Over 60': (filtered_data['Total number of people aged 60 or older in Household?'] * filtered_data['Person Totals']).sum(),\n",
    "            'Children': (filtered_data['Total number of people aged 18 or under in household?'] * filtered_data['Person Totals']).sum()\n",
    "        }\n",
    "        if town == 'Newmarket' or town is None:\n",
    "            for key, value in SeniorCenter.items():\n",
    "                row[key] += value\n",
    "        return row\n",
    "\n",
    "    summary = []\n",
    "\n",
    "    # Calculate rows for each town\n",
    "    for town in report['City'].unique():\n",
    "        filtered = report.loc[report['City'] == town]\n",
    "        summary.append(calculate_row(filtered, town))\n",
    "\n",
    "    # Calculate total row\n",
    "    summary.append(calculate_row(report))\n",
    "\n",
    "    return summary\n"
   ]
  },
  {
   "cell_type": "code",
   "execution_count": 10,
   "id": "333335ac-496e-4287-a751-3bdc175f3d14",
   "metadata": {},
   "outputs": [
    {
     "data": {
      "text/html": [
       "<div>\n",
       "<style scoped>\n",
       "    .dataframe tbody tr th:only-of-type {\n",
       "        vertical-align: middle;\n",
       "    }\n",
       "\n",
       "    .dataframe tbody tr th {\n",
       "        vertical-align: top;\n",
       "    }\n",
       "\n",
       "    .dataframe thead th {\n",
       "        text-align: right;\n",
       "    }\n",
       "</style>\n",
       "<table border=\"1\" class=\"dataframe\">\n",
       "  <thead>\n",
       "    <tr style=\"text-align: right;\">\n",
       "      <th></th>\n",
       "      <th>Town</th>\n",
       "      <th>Households</th>\n",
       "      <th>Individuals</th>\n",
       "      <th>Meals</th>\n",
       "      <th>Over 60</th>\n",
       "      <th>Children</th>\n",
       "    </tr>\n",
       "  </thead>\n",
       "  <tbody>\n",
       "    <tr>\n",
       "      <th>0</th>\n",
       "      <td>Newmarket</td>\n",
       "      <td>205</td>\n",
       "      <td>1390</td>\n",
       "      <td>20850</td>\n",
       "      <td>385</td>\n",
       "      <td>330</td>\n",
       "    </tr>\n",
       "    <tr>\n",
       "      <th>1</th>\n",
       "      <td>Newfields</td>\n",
       "      <td>6</td>\n",
       "      <td>28</td>\n",
       "      <td>420</td>\n",
       "      <td>13</td>\n",
       "      <td>4</td>\n",
       "    </tr>\n",
       "    <tr>\n",
       "      <th>2</th>\n",
       "      <td>TOTAL</td>\n",
       "      <td>211</td>\n",
       "      <td>1418</td>\n",
       "      <td>21270</td>\n",
       "      <td>398</td>\n",
       "      <td>334</td>\n",
       "    </tr>\n",
       "  </tbody>\n",
       "</table>\n",
       "</div>"
      ],
      "text/plain": [
       "        Town  Households  Individuals  Meals  Over 60  Children\n",
       "0  Newmarket         205         1390  20850      385       330\n",
       "1  Newfields           6           28    420       13         4\n",
       "2      TOTAL         211         1418  21270      398       334"
      ]
     },
     "metadata": {},
     "output_type": "display_data"
    }
   ],
   "source": [
    "# Create the summary for the USDA monthly report.\n",
    "\n",
    "summary = summarize(report)\n",
    "pd.DataFrame(summary).to_csv(summary_file, index=False)\n",
    "\n",
    "# USDA has requested that we report only counts for Newmarket and Newfields. \n",
    "# The Pantry has decided that any people not from Newfields will be reported as from Newmarket. \n",
    "# To get the full report, comment out this line.\n",
    "report.loc[report['City'] != 'Newfields', 'City'] = 'Newmarket'\n",
    "summary = summarize(report)\n",
    "display(pd.DataFrame(summary))\n"
   ]
  }
 ],
 "metadata": {
  "kernelspec": {
   "display_name": "Python 3 (ipykernel)",
   "language": "python",
   "name": "python3"
  },
  "language_info": {
   "codemirror_mode": {
    "name": "ipython",
    "version": 3
   },
   "file_extension": ".py",
   "mimetype": "text/x-python",
   "name": "python",
   "nbconvert_exporter": "python",
   "pygments_lexer": "ipython3",
   "version": "3.11.4"
  }
 },
 "nbformat": 4,
 "nbformat_minor": 5
}
