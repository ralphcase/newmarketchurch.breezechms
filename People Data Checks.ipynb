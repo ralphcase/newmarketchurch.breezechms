{
 "cells": [
  {
   "cell_type": "code",
   "execution_count": 2,
   "id": "946f543a-dfaa-4285-abc9-55196947093e",
   "metadata": {},
   "outputs": [
    {
     "name": "stdout",
     "output_type": "stream",
     "text": [
      "1906 people in input.\n"
     ]
    }
   ],
   "source": [
    "from datetime import datetime, timedelta, date\n",
    "import urllib.parse\n",
    "\n",
    "peopleexport = r\"C:\\Users\\ralph\\Downloads\\newmarketchurch-people-02-15-2024.xlsx\"\n",
    "\n",
    "ncc_url = r\"https://newmarketchurch.breezechms.com\"\n",
    "\n",
    "# Set up Breeze API wrapper\n",
    "from breeze_chms_api import breeze\n",
    "\n",
    "# Initialize API \n",
    "import config\n",
    "breeze_api = breeze.breeze_api(breeze_url=ncc_url,\n",
    "                               api_key=config.api_key)\n",
    "\n",
    "\n",
    "import numpy as np\n",
    "import pandas as pd\n",
    "\n",
    "def make_link(row):\n",
    "    # print(row)\n",
    "    url = ncc_url + r'/people/view/' + str(row['Breeze ID'])\n",
    "    name = row['Last Name']\n",
    "    if isinstance(row['First Name'], str):\n",
    "        name = row['First Name'] + \" \" + name\n",
    "    return f'<a href=\"{url}\">{name}</a>'\n",
    "\n",
    "# Read in the downloaded Excel file \n",
    "people = pd.read_excel(peopleexport, na_filter=False)\n",
    "\n",
    "# people.insert(loc = 1, column = 'link', value = people.apply(make_link, axis=1))\n",
    "# people.style.format({'link': make_link})\n",
    "# people['link'] = people.apply(make_link, axis=1)\n",
    "print('{count} people in input.'.format(count = len(people.index)))"
   ]
  },
  {
   "cell_type": "code",
   "execution_count": 7,
   "id": "969decff-2d6a-4887-ab6b-0cbf3a1087fa",
   "metadata": {},
   "outputs": [
    {
     "data": {
      "text/plain": [
       "{'id': '47805612',\n",
       " 'first_name': 'Cynthia',\n",
       " 'force_first_name': 'Cynthia',\n",
       " 'nick_name': '',\n",
       " 'middle_name': '',\n",
       " 'maiden_name': '',\n",
       " 'last_name': 'Whitney',\n",
       " 'thumb_path': '',\n",
       " 'path': 'img/profiles/generic/gray.png',\n",
       " 'street_address': '291 Wadleigh Falls Road',\n",
       " 'city': 'Lee',\n",
       " 'state': 'NH',\n",
       " 'zip': '03861',\n",
       " 'details': {'person_id': '47805612',\n",
       "  '0': 'on',\n",
       "  '': 'on',\n",
       "  '1515006295': [{'name': 'Friend of NCC - Donor', 'value': '99'}],\n",
       "  '1494581201': [{'field_type': 'phone',\n",
       "    'phone_number': '(603) 765-1438',\n",
       "    'phone_type': 'home',\n",
       "    'do_not_text': '0',\n",
       "    'is_private': '0',\n",
       "    'people_meta_id': '1090977876'}],\n",
       "  '487851450': [{'address': 'connemara3@aol.com',\n",
       "    'is_primary': '1',\n",
       "    'allow_bulk': '1',\n",
       "    'is_private': '0',\n",
       "    'field_type': 'email_primary'}],\n",
       "  '589696826': [{'field_type': 'address_primary',\n",
       "    'street_address': '291 Wadleigh Falls Road',\n",
       "    'city': 'Lee',\n",
       "    'state': 'NH',\n",
       "    'zip': '03861',\n",
       "    'longitude': '',\n",
       "    'latitude': '',\n",
       "    'is_primary': '1',\n",
       "    'is_private': '0'}]},\n",
       " 'family': []}"
      ]
     },
     "metadata": {},
     "output_type": "display_data"
    }
   ],
   "source": [
    "# display(breeze_api.get_person_details(person_id = 47805612))"
   ]
  },
  {
   "cell_type": "code",
   "execution_count": 6,
   "id": "d4ace699-054c-4938-aedd-bddbc9c27435",
   "metadata": {},
   "outputs": [
    {
     "name": "stdout",
     "output_type": "stream",
     "text": [
      "City needs to be cleaned up:\n",
      "151\n"
     ]
    },
    {
     "data": {
      "text/plain": [
       "1       30395820\n",
       "24      30395884\n",
       "25      30395886\n",
       "29      30395902\n",
       "42      30395946\n",
       "          ...   \n",
       "1831    47397912\n",
       "1843    47527927\n",
       "1875    47715579\n",
       "1879    47727369\n",
       "1894    47831829\n",
       "Name: Breeze ID, Length: 151, dtype: int64"
      ]
     },
     "metadata": {},
     "output_type": "display_data"
    }
   ],
   "source": [
    "# Check the City in the Address\n",
    "def clean(word):\n",
    "    if word == 0:\n",
    "        return 'unknown'\n",
    "    return word.strip().title()\n",
    "\n",
    "print(\"City needs to be cleaned up:\")\n",
    "# display(people.loc[people['City'] != people['City'].apply(clean)][['Breeze ID', 'City']])\n",
    "fix_city = people.loc[people['City'] != people['City'].apply(clean)]['Breeze ID']\n",
    "print(len(fix_city))\n",
    "display(fix_city)\n",
    "for person in fix_city.tolist()[0:1]:\n",
    "    profile = breeze_api.get_person_details(person_id = person)\n",
    "    details = profile['details']\n",
    "    # print('\\n profile: ', profile)\n",
    "    address = {k: v for k, v in details.items() if isinstance(v, list) and len(v) > 0 and 'field_type' in v[0] and v[0]['field_type'] == 'address_primary'}\n",
    "  \n",
    "    # print(address)\n",
    "    address_key = [*address][0]\n",
    "    paddress = address[address_key][0]\n",
    "    # print(paddress)\n",
    "    \n",
    "    paddress['city'] = clean(paddress['city'])\n",
    "    paddress['street_address'] = clean(paddress['street_address'])\n",
    "    # print(address)\n",
    "    details[address_key] = [paddress]\n",
    "    # print('\\n modified: ', details)\n",
    "    profile['details'][address_key][0]['city'] = paddress['city']\n",
    "    profile['details'][address_key][0]['street_address'] = paddress['street_address']\n",
    "    # print('\\n profile: ', profile)\n",
    "    # print(profile['city'], update)\n",
    "\n",
    "    # update_person doesn't seem to update the profile\n",
    "    \n",
    "    result = breeze_api.update_person(person_id = person, fields_json = [details])\n",
    "    # print('\\n result: ', result)\n",
    "    # print(len(profile), type(profile), profile['city'], profile)"
   ]
  },
  {
   "cell_type": "code",
   "execution_count": 3,
   "id": "321ac0c3-821c-4df5-b304-d1dbdd6f94f8",
   "metadata": {},
   "outputs": [],
   "source": [
    "# Some people don't have a first name. Organizations shouldn't, so that's not a problem.\n",
    "# Is there a better way to know if a profile belongs to an organization?\n",
    "# A name that starts with a ' ' is probably a problem.\n",
    "\n",
    "columns_to_check = [\n",
    "    'First Name',\n",
    "    'Last Name',\n",
    "]\n",
    "\n",
    "def show(frame, col, rule):\n",
    "    if (len(frame.index) > 0):\n",
    "        print('column {col} and rule {rule}'.format(col = col, rule = rule))\n",
    "        display(frame)\n",
    "\n",
    "for col in columns_to_check:\n",
    "# print(type(people['First Name']))\n",
    "# people[pd.isna(people['First Name'])]\n",
    "    show(people[people[col].apply(lambda x : not isinstance(x, str))], col, 'should be a string')\n",
    "    show(people[people[col].apply(lambda x : isinstance(x, str) and x.startswith(' '))], col, 'should start with a letter')\n",
    "    show(people[people[col].apply(lambda x : isinstance(x, str) and not x == x.strip())], col, 'should start and end with a letter')"
   ]
  },
  {
   "cell_type": "code",
   "execution_count": 4,
   "id": "0d164039-3e62-4c11-bd41-a8e4394cc998",
   "metadata": {},
   "outputs": [],
   "source": [
    "# TODO: Should orgs have an 'Org...' tag?"
   ]
  },
  {
   "cell_type": "code",
   "execution_count": 5,
   "id": "0d9849da-0d19-44f5-9286-29eaf93026b4",
   "metadata": {},
   "outputs": [],
   "source": [
    "people['First Name'] = people['First Name'].replace(np.nan, '')\n",
    "# people = people.iloc[0:25]\n",
    "# print(people)"
   ]
  },
  {
   "cell_type": "code",
   "execution_count": 6,
   "id": "bf17ead1-0851-42c8-b4e1-b0f6167dba93",
   "metadata": {},
   "outputs": [
    {
     "ename": "KeyboardInterrupt",
     "evalue": "",
     "output_type": "error",
     "traceback": [
      "\u001b[1;31m---------------------------------------------------------------------------\u001b[0m",
      "\u001b[1;31mKeyboardInterrupt\u001b[0m                         Traceback (most recent call last)",
      "Cell \u001b[1;32mIn[6], line 11\u001b[0m\n\u001b[0;32m      8\u001b[0m bestmatch \u001b[38;5;241m=\u001b[39m (\u001b[38;5;241m0\u001b[39m, \u001b[38;5;124m'\u001b[39m\u001b[38;5;124m'\u001b[39m) \n\u001b[0;32m      9\u001b[0m \u001b[38;5;28;01mfor\u001b[39;00m other \u001b[38;5;129;01min\u001b[39;00m [people\u001b[38;5;241m.\u001b[39miloc[i] \u001b[38;5;28;01mfor\u001b[39;00m i \u001b[38;5;129;01min\u001b[39;00m \u001b[38;5;28mrange\u001b[39m(\u001b[38;5;28mlen\u001b[39m(people)) \u001b[38;5;28;01mif\u001b[39;00m i \u001b[38;5;241m!=\u001b[39m row]:\n\u001b[0;32m     10\u001b[0m     \u001b[38;5;66;03m# print(people.iloc[row]['First Name'], people.iloc[row]['Last Name'])\u001b[39;00m\n\u001b[1;32m---> 11\u001b[0m     fcomp \u001b[38;5;241m=\u001b[39m fuzz\u001b[38;5;241m.\u001b[39mratio(\u001b[43mpeople\u001b[49m\u001b[38;5;241;43m.\u001b[39;49m\u001b[43miloc\u001b[49m\u001b[43m[\u001b[49m\u001b[43mrow\u001b[49m\u001b[43m]\u001b[49m[\u001b[38;5;124m'\u001b[39m\u001b[38;5;124mFirst Name\u001b[39m\u001b[38;5;124m'\u001b[39m], other[\u001b[38;5;124m'\u001b[39m\u001b[38;5;124mFirst Name\u001b[39m\u001b[38;5;124m'\u001b[39m])\n\u001b[0;32m     12\u001b[0m     lcomp \u001b[38;5;241m=\u001b[39m fuzz\u001b[38;5;241m.\u001b[39mratio(people\u001b[38;5;241m.\u001b[39miloc[row][\u001b[38;5;124m'\u001b[39m\u001b[38;5;124mLast Name\u001b[39m\u001b[38;5;124m'\u001b[39m], other[\u001b[38;5;124m'\u001b[39m\u001b[38;5;124mLast Name\u001b[39m\u001b[38;5;124m'\u001b[39m])\n\u001b[0;32m     13\u001b[0m     \u001b[38;5;66;03m# TODO: Does this calculation work for orgs where the First Name is blank?\u001b[39;00m\n",
      "File \u001b[1;32m~\\Envs\\breeze\\Lib\\site-packages\\pandas\\core\\indexing.py:1153\u001b[0m, in \u001b[0;36m_LocationIndexer.__getitem__\u001b[1;34m(self, key)\u001b[0m\n\u001b[0;32m   1150\u001b[0m axis \u001b[38;5;241m=\u001b[39m \u001b[38;5;28mself\u001b[39m\u001b[38;5;241m.\u001b[39maxis \u001b[38;5;129;01mor\u001b[39;00m \u001b[38;5;241m0\u001b[39m\n\u001b[0;32m   1152\u001b[0m maybe_callable \u001b[38;5;241m=\u001b[39m com\u001b[38;5;241m.\u001b[39mapply_if_callable(key, \u001b[38;5;28mself\u001b[39m\u001b[38;5;241m.\u001b[39mobj)\n\u001b[1;32m-> 1153\u001b[0m \u001b[38;5;28;01mreturn\u001b[39;00m \u001b[38;5;28;43mself\u001b[39;49m\u001b[38;5;241;43m.\u001b[39;49m\u001b[43m_getitem_axis\u001b[49m\u001b[43m(\u001b[49m\u001b[43mmaybe_callable\u001b[49m\u001b[43m,\u001b[49m\u001b[43m \u001b[49m\u001b[43maxis\u001b[49m\u001b[38;5;241;43m=\u001b[39;49m\u001b[43maxis\u001b[49m\u001b[43m)\u001b[49m\n",
      "File \u001b[1;32m~\\Envs\\breeze\\Lib\\site-packages\\pandas\\core\\indexing.py:1716\u001b[0m, in \u001b[0;36m_iLocIndexer._getitem_axis\u001b[1;34m(self, key, axis)\u001b[0m\n\u001b[0;32m   1713\u001b[0m \u001b[38;5;66;03m# validate the location\u001b[39;00m\n\u001b[0;32m   1714\u001b[0m \u001b[38;5;28mself\u001b[39m\u001b[38;5;241m.\u001b[39m_validate_integer(key, axis)\n\u001b[1;32m-> 1716\u001b[0m \u001b[38;5;28;01mreturn\u001b[39;00m \u001b[38;5;28;43mself\u001b[39;49m\u001b[38;5;241;43m.\u001b[39;49m\u001b[43mobj\u001b[49m\u001b[38;5;241;43m.\u001b[39;49m\u001b[43m_ixs\u001b[49m\u001b[43m(\u001b[49m\u001b[43mkey\u001b[49m\u001b[43m,\u001b[49m\u001b[43m \u001b[49m\u001b[43maxis\u001b[49m\u001b[38;5;241;43m=\u001b[39;49m\u001b[43maxis\u001b[49m\u001b[43m)\u001b[49m\n",
      "File \u001b[1;32m~\\Envs\\breeze\\Lib\\site-packages\\pandas\\core\\frame.py:3792\u001b[0m, in \u001b[0;36mDataFrame._ixs\u001b[1;34m(self, i, axis)\u001b[0m\n\u001b[0;32m   3790\u001b[0m \u001b[38;5;66;03m# irow\u001b[39;00m\n\u001b[0;32m   3791\u001b[0m \u001b[38;5;28;01mif\u001b[39;00m axis \u001b[38;5;241m==\u001b[39m \u001b[38;5;241m0\u001b[39m:\n\u001b[1;32m-> 3792\u001b[0m     new_mgr \u001b[38;5;241m=\u001b[39m \u001b[38;5;28;43mself\u001b[39;49m\u001b[38;5;241;43m.\u001b[39;49m\u001b[43m_mgr\u001b[49m\u001b[38;5;241;43m.\u001b[39;49m\u001b[43mfast_xs\u001b[49m\u001b[43m(\u001b[49m\u001b[43mi\u001b[49m\u001b[43m)\u001b[49m\n\u001b[0;32m   3794\u001b[0m     \u001b[38;5;66;03m# if we are a copy, mark as such\u001b[39;00m\n\u001b[0;32m   3795\u001b[0m     copy \u001b[38;5;241m=\u001b[39m \u001b[38;5;28misinstance\u001b[39m(new_mgr\u001b[38;5;241m.\u001b[39marray, np\u001b[38;5;241m.\u001b[39mndarray) \u001b[38;5;129;01mand\u001b[39;00m new_mgr\u001b[38;5;241m.\u001b[39marray\u001b[38;5;241m.\u001b[39mbase \u001b[38;5;129;01mis\u001b[39;00m \u001b[38;5;28;01mNone\u001b[39;00m\n",
      "File \u001b[1;32m~\\Envs\\breeze\\Lib\\site-packages\\pandas\\core\\internals\\managers.py:981\u001b[0m, in \u001b[0;36mBlockManager.fast_xs\u001b[1;34m(self, loc)\u001b[0m\n\u001b[0;32m    977\u001b[0m \u001b[38;5;28;01mfor\u001b[39;00m blk \u001b[38;5;129;01min\u001b[39;00m \u001b[38;5;28mself\u001b[39m\u001b[38;5;241m.\u001b[39mblocks:\n\u001b[0;32m    978\u001b[0m     \u001b[38;5;66;03m# Such assignment may incorrectly coerce NaT to None\u001b[39;00m\n\u001b[0;32m    979\u001b[0m     \u001b[38;5;66;03m# result[blk.mgr_locs] = blk._slice((slice(None), loc))\u001b[39;00m\n\u001b[0;32m    980\u001b[0m     \u001b[38;5;28;01mfor\u001b[39;00m i, rl \u001b[38;5;129;01min\u001b[39;00m \u001b[38;5;28menumerate\u001b[39m(blk\u001b[38;5;241m.\u001b[39mmgr_locs):\n\u001b[1;32m--> 981\u001b[0m         result[rl] \u001b[38;5;241m=\u001b[39m \u001b[43mblk\u001b[49m\u001b[38;5;241;43m.\u001b[39;49m\u001b[43miget\u001b[49m\u001b[43m(\u001b[49m\u001b[43m(\u001b[49m\u001b[43mi\u001b[49m\u001b[43m,\u001b[49m\u001b[43m \u001b[49m\u001b[43mloc\u001b[49m\u001b[43m)\u001b[49m\u001b[43m)\u001b[49m\n\u001b[0;32m    983\u001b[0m \u001b[38;5;28;01mif\u001b[39;00m \u001b[38;5;28misinstance\u001b[39m(dtype, ExtensionDtype):\n\u001b[0;32m    984\u001b[0m     \u001b[38;5;28mcls\u001b[39m \u001b[38;5;241m=\u001b[39m dtype\u001b[38;5;241m.\u001b[39mconstruct_array_type()\n",
      "File \u001b[1;32m~\\Envs\\breeze\\Lib\\site-packages\\pandas\\core\\internals\\blocks.py:1007\u001b[0m, in \u001b[0;36mBlock.iget\u001b[1;34m(self, i)\u001b[0m\n\u001b[0;32m   1003\u001b[0m \u001b[38;5;129m@property\u001b[39m\n\u001b[0;32m   1004\u001b[0m \u001b[38;5;28;01mdef\u001b[39;00m \u001b[38;5;21mshape\u001b[39m(\u001b[38;5;28mself\u001b[39m) \u001b[38;5;241m-\u001b[39m\u001b[38;5;241m>\u001b[39m Shape:\n\u001b[0;32m   1005\u001b[0m     \u001b[38;5;28;01mreturn\u001b[39;00m \u001b[38;5;28mself\u001b[39m\u001b[38;5;241m.\u001b[39mvalues\u001b[38;5;241m.\u001b[39mshape\n\u001b[1;32m-> 1007\u001b[0m \u001b[38;5;28;01mdef\u001b[39;00m \u001b[38;5;21miget\u001b[39m(\u001b[38;5;28mself\u001b[39m, i: \u001b[38;5;28mint\u001b[39m \u001b[38;5;241m|\u001b[39m \u001b[38;5;28mtuple\u001b[39m[\u001b[38;5;28mint\u001b[39m, \u001b[38;5;28mint\u001b[39m] \u001b[38;5;241m|\u001b[39m \u001b[38;5;28mtuple\u001b[39m[\u001b[38;5;28mslice\u001b[39m, \u001b[38;5;28mint\u001b[39m]) \u001b[38;5;241m-\u001b[39m\u001b[38;5;241m>\u001b[39m np\u001b[38;5;241m.\u001b[39mndarray:\n\u001b[0;32m   1008\u001b[0m     \u001b[38;5;66;03m# In the case where we have a tuple[slice, int], the slice will always\u001b[39;00m\n\u001b[0;32m   1009\u001b[0m     \u001b[38;5;66;03m#  be slice(None)\u001b[39;00m\n\u001b[0;32m   1010\u001b[0m     \u001b[38;5;66;03m# Note: only reached with self.ndim == 2\u001b[39;00m\n\u001b[0;32m   1011\u001b[0m     \u001b[38;5;66;03m# Invalid index type \"Union[int, Tuple[int, int], Tuple[slice, int]]\"\u001b[39;00m\n\u001b[0;32m   1012\u001b[0m     \u001b[38;5;66;03m# for \"Union[ndarray[Any, Any], ExtensionArray]\"; expected type\u001b[39;00m\n\u001b[0;32m   1013\u001b[0m     \u001b[38;5;66;03m# \"Union[int, integer[Any]]\"\u001b[39;00m\n\u001b[0;32m   1014\u001b[0m     \u001b[38;5;28;01mreturn\u001b[39;00m \u001b[38;5;28mself\u001b[39m\u001b[38;5;241m.\u001b[39mvalues[i]  \u001b[38;5;66;03m# type: ignore[index]\u001b[39;00m\n\u001b[0;32m   1016\u001b[0m \u001b[38;5;28;01mdef\u001b[39;00m \u001b[38;5;21m_slice\u001b[39m(\n\u001b[0;32m   1017\u001b[0m     \u001b[38;5;28mself\u001b[39m, slicer: \u001b[38;5;28mslice\u001b[39m \u001b[38;5;241m|\u001b[39m npt\u001b[38;5;241m.\u001b[39mNDArray[np\u001b[38;5;241m.\u001b[39mbool_] \u001b[38;5;241m|\u001b[39m npt\u001b[38;5;241m.\u001b[39mNDArray[np\u001b[38;5;241m.\u001b[39mintp]\n\u001b[0;32m   1018\u001b[0m ) \u001b[38;5;241m-\u001b[39m\u001b[38;5;241m>\u001b[39m ArrayLike:\n",
      "\u001b[1;31mKeyboardInterrupt\u001b[0m: "
     ]
    }
   ],
   "source": [
    "from fuzzywuzzy import fuzz \n",
    "\n",
    "# print(people['First Name'].loc[0:24])\n",
    "matches = []\n",
    "for row in range(0, len(people)): \n",
    "    # print(row)\n",
    "    # print(people.iloc[row]['First Name'], people.iloc[row]['Last Name'])\n",
    "    bestmatch = (0, '') \n",
    "    for other in [people.iloc[i] for i in range(len(people)) if i != row]:\n",
    "        # print(people.iloc[row]['First Name'], people.iloc[row]['Last Name'])\n",
    "        fcomp = fuzz.ratio(people.iloc[row]['First Name'], other['First Name'])\n",
    "        lcomp = fuzz.ratio(people.iloc[row]['Last Name'], other['Last Name'])\n",
    "        # TODO: Does this calculation work for orgs where the First Name is blank?\n",
    "        match = fcomp * lcomp / 100\n",
    "        if match > bestmatch[0]:\n",
    "            bestmatch = (match, other['First Name'] + ' ' + other['Last Name'])\n",
    "    # print(bestmatch)\n",
    "    matches.append(bestmatch)\n",
    "    # print(people['First Name'].loc[i for i in range(len(people)) if i != row])\n",
    "# print(people.iloc[0])\n",
    "# for p in people['First Name'].tolist():\n",
    "# print(matches)\n"
   ]
  },
  {
   "cell_type": "code",
   "execution_count": null,
   "id": "3f6214c4-3055-49bd-ab51-93dbeda197e9",
   "metadata": {},
   "outputs": [],
   "source": [
    "people['Best Match ratio'] = [m[0] for m in matches]\n",
    "people['Best Match name'] = [m[1] for m in matches]"
   ]
  },
  {
   "cell_type": "code",
   "execution_count": null,
   "id": "1e7c79dd-6d69-4826-b095-fab2dbe1ba3d",
   "metadata": {},
   "outputs": [],
   "source": [
    "allnames = (people['First Name'].replace(np.nan, '') + ' ' + people['Last Name']).tolist()\n",
    "# print(allnames)\n",
    "for name in allnames:\n",
    "    if not isinstance(name, str):\n",
    "        print(name)"
   ]
  },
  {
   "cell_type": "code",
   "execution_count": null,
   "id": "90dde112-eb18-436a-9506-33f962a2a874",
   "metadata": {},
   "outputs": [],
   "source": [
    "# from operator import itemgetter \n",
    "# from fuzzywuzzy import process\n",
    "\n",
    "# Ratios = [process.extract(x, allnames) for x in allnames]\n",
    "# maxes = [max(ratio, key = itemgetter(1)) for ratio in Ratios if ratio[0][1] != 100]\n",
    "# print(maxes)\n"
   ]
  },
  {
   "cell_type": "code",
   "execution_count": null,
   "id": "0c65a99f-4e1d-487d-a73d-e7545993262f",
   "metadata": {},
   "outputs": [],
   "source": [
    "display(people[people['Best Match ratio'] > 90])"
   ]
  },
  {
   "cell_type": "code",
   "execution_count": null,
   "id": "37cf4ac0-a546-4c45-a025-7ba58256c885",
   "metadata": {},
   "outputs": [],
   "source": [
    "# Set up Breeze API wrapper\n",
    "from breeze_chms_api import breeze\n",
    "\n",
    "# Initialize API \n",
    "breeze_api = breeze.breeze_api(breeze_url='https://newmarketchurch.breezechms.com',\n",
    "                               api_key='8dfd0a0d7f5aaec745a73542f58eb8ba')\n",
    "\n",
    "for index, person in people.iterrows():\n",
    "# for index, person in people.iterrows():\n",
    "    if 44241778 == person['Breeze ID'] or index < 2:\n",
    "        person = breeze_api.get_person_details(person_id = person['Breeze ID'])\n",
    "        # print(person['details'])\n",
    "        # for key, val in person.items():\n",
    "        #     if key == 'family' and len(val) > 0:\n",
    "        #         print(key, val)\n",
    "        family = person['family']\n",
    "        if len(family) > 0:\n",
    "            print(family)\n",
    "        # for key, val in person['details'].items():\n",
    "        #     print(key, val)"
   ]
  }
 ],
 "metadata": {
  "kernelspec": {
   "display_name": "Python 3 (ipykernel)",
   "language": "python",
   "name": "python3"
  },
  "language_info": {
   "codemirror_mode": {
    "name": "ipython",
    "version": 3
   },
   "file_extension": ".py",
   "mimetype": "text/x-python",
   "name": "python",
   "nbconvert_exporter": "python",
   "pygments_lexer": "ipython3",
   "version": "3.11.4"
  }
 },
 "nbformat": 4,
 "nbformat_minor": 5
}
